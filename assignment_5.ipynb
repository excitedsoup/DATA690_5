{
 "cells": [
  {
   "cell_type": "markdown",
   "id": "ada4b105",
   "metadata": {},
   "source": [
    "# Assignment - 5"
   ]
  },
  {
   "cell_type": "markdown",
   "id": "d5e272c3",
   "metadata": {},
   "source": [
    "You are responsible for making recommendation to the top management about the feasibility of a project and you will use Net Present Value (NPV) approach to do that. Cash flow of the company is calculated by the following formula:"
   ]
  },
  {
   "cell_type": "markdown",
   "id": "1dce1980",
   "metadata": {},
   "source": [
    "* nYear = 5,# number of years\n",
    "* costEquipment = 5e6,# 5 million\n",
    "* n = nYear+1,# add year zero\n",
    "* price = 28,# price of the product\n",
    "* units = 100000,# estimate number of units sold\n",
    "* otherCost = 100000,# other costs\n",
    "* sellingCost = 1500,# selling and administration cost\n",
    "* R_D = 200000,# Research and development\n",
    "* costRawMaterials = 0.3,# percentage cost of raw materials\n",
    "* R = 0.15# discount rate\n"
   ]
  },
  {
   "cell_type": "markdown",
   "id": "20196e03",
   "metadata": {},
   "source": [
    "\n",
    "Follow these tasks to accomplish the assignment:\n",
    "* Calculate sales first. (Hint: price * units) (15 pts)\n",
    "* Subtract costs from sales to calculate cash flow. (15 pts)\n",
    "* Use discount rate and cash flow to calculate the NPV and make your decision. (70 pts)"
   ]
  },
  {
   "cell_type": "code",
   "execution_count": 52,
   "id": "0473c2f1",
   "metadata": {},
   "outputs": [],
   "source": [
    "# codes here\n",
    "\n",
    "import numpy as np\n",
    "import warnings\n",
    "warnings.filterwarnings('ignore')"
   ]
  },
  {
   "cell_type": "code",
   "execution_count": 53,
   "id": "7650f912",
   "metadata": {},
   "outputs": [],
   "source": [
    "nYear = 5\n",
    "costEquipment = 5000000\n",
    "price = 28\n",
    "units = 100000 # I assumed this was sales/year\n",
    "otherCost = 100000 # other costs\n",
    "sellingCost = 1500 # selling and administration cost\n",
    "R_D = 200000 # Research and development\n",
    "costRawMaterials = 0.3 # percentage cost of raw materials\n",
    "discount_rate = .15\n",
    "sales = []\n",
    "cash_flow = []\n",
    "time_horizon = 5\n",
    "\n",
    "for i in range(nYear):\n",
    "    sales.append(price*units)\n",
    "    \n",
    "cash_flow.append((costEquipment + R_D) * - 1)    \n",
    "for i in sales:\n",
    "    cash_flow.append(costRawMaterials*i - otherCost - sellingCost)"
   ]
  },
  {
   "cell_type": "code",
   "execution_count": 54,
   "id": "fe012f01",
   "metadata": {},
   "outputs": [
    {
     "data": {
      "text/plain": [
       "[-5200000, 738500.0, 738500.0, 738500.0, 738500.0, 738500.0]"
      ]
     },
     "execution_count": 54,
     "metadata": {},
     "output_type": "execute_result"
    }
   ],
   "source": [
    "cash_flow"
   ]
  },
  {
   "cell_type": "code",
   "execution_count": 55,
   "id": "b24fc3c9",
   "metadata": {},
   "outputs": [],
   "source": [
    "def NPV(cash_flow, discount_rate, time_horizon):\n",
    "    cash_gen = []\n",
    "    for i in range(time_horizon + 1):\n",
    "        cash_gen.append(cash_flow[i]/(1 + discount_rate) ** i)\n",
    "    npv = np.sum(cash_gen)\n",
    "    return npv, cash_gen"
   ]
  },
  {
   "cell_type": "code",
   "execution_count": 56,
   "id": "77e70c10",
   "metadata": {},
   "outputs": [
    {
     "name": "stdout",
     "output_type": "stream",
     "text": [
      "Net present value of the investment:-2724433.46\n"
     ]
    },
    {
     "data": {
      "text/plain": [
       "[-5200000.0,\n",
       " 642173.9130434783,\n",
       " 558412.0982986769,\n",
       " 485575.7376510233,\n",
       " 422239.7718704551,\n",
       " 367165.01901778707]"
      ]
     },
     "execution_count": 56,
     "metadata": {},
     "output_type": "execute_result"
    }
   ],
   "source": [
    "npv, cash_gen = NPV(cash_flow, discount_rate, time_horizon)\n",
    "print(\"Net present value of the investment:{:.2f}\".format(npv))\n",
    "cash_gen"
   ]
  },
  {
   "cell_type": "code",
   "execution_count": 57,
   "id": "5c6c6564",
   "metadata": {},
   "outputs": [
    {
     "data": {
      "text/plain": [
       "Text(0, 0.5, 'Cash generated')"
      ]
     },
     "execution_count": 57,
     "metadata": {},
     "output_type": "execute_result"
    },
    {
     "data": {
      "image/png": "[encoded data removed]",
      "text/plain": [
       "<Figure size 432x288 with 1 Axes>"
      ]
     },
     "metadata": {
      "needs_background": "light"
     },
     "output_type": "display_data"
    }
   ],
   "source": [
    "import matplotlib.pyplot as plt\n",
    "plt.plot(cash_gen)\n",
    "plt.title('NPV')\n",
    "plt.xlabel('Time Horizon (Years)')\n",
    "plt.ylabel('Cash generated')"
   ]
  },
  {
   "cell_type": "markdown",
   "id": "c9f34b57",
   "metadata": {},
   "source": [
    "Given that our initial investment was 5.2 million, the cash generated does not give us enough to equalize the cost - we ended at -2724433.46. As such, the project does not seem feasible in terms of profitability, and I would recommend against it (rather heavily, as a look at nYear/time_horizon = 15 shows the project is still not profitable)."
   ]
  },
  {
   "cell_type": "code",
   "execution_count": null,
   "id": "085f16e5",
   "metadata": {},
   "outputs": [],
   "source": []
  }
 ],
 "metadata": {
  "kernelspec": {
   "display_name": "Python 3 (ipykernel)",
   "language": "python",
   "name": "python3"
  },
  "language_info": {
   "codemirror_mode": {
    "name": "ipython",
    "version": 3
   },
   "file_extension": ".py",
   "mimetype": "text/x-python",
   "name": "python",
   "nbconvert_exporter": "python",
   "pygments_lexer": "ipython3",
   "version": "3.9.7"
  }
 },
 "nbformat": 4,
 "nbformat_minor": 5
}
