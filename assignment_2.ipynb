{
 "cells": [
  {
   "cell_type": "markdown",
   "id": "f1a21dfa",
   "metadata": {},
   "source": [
    "# Assignment-2"
   ]
  },
  {
   "cell_type": "markdown",
   "id": "b0c432fc",
   "metadata": {},
   "source": [
    "In this assignment, you are working at a hypothetical bank called `InvRes` Bank offering consulting service to its customers. Your first aim is to find out the risk level of these stocks relative to the market index.\n",
    "\n",
    "\n",
    "\n",
    "To accomplish this task, you will use Capital Asset Pricing Model (CAPM), which dates back to 1960’s, yet still powerful tool in finance due to its intuitive and easy-to-apply nature. As it is completely white-box model, it makes it easy to understand and explain. "
   ]
  },
  {
   "cell_type": "markdown",
   "id": "b72060eb",
   "metadata": {},
   "source": [
    "Once you estimate the slope coefficient (beta) and intercept term (alpha) of the CAPM model, you will be able to assess if the asset is risky compared to market. Then, your next task is to find out the stock with best risk-return relationship. To do that, you are required to employ the following ratios:\n",
    "\n",
    "• Sharpe ratio\n",
    "\n",
    "• Treynor ratio"
   ]
  },
  {
   "cell_type": "markdown",
   "id": "94723035",
   "metadata": {},
   "source": [
    "You can pick any two stocks and market index other than those we have in the class."
   ]
  },
  {
   "cell_type": "markdown",
   "id": "81bb9e36",
   "metadata": {},
   "source": [
    "This assignment will be divided into 4 milestones.\n",
    "\n",
    "1. Accessing the data and obtain daily risk-free rate. Besides, analyze data via summary statistic. (25 pts)\n",
    "\n",
    "2. Examine the data through visualization and correlation. Calculate returns of the stocks and market. (25 pts)\n",
    "\n",
    "3. Run Capital Asset Pricing Model and interpret the results. (25 pts)\n",
    "\n",
    "4. Calculate Sharpe and Treynor measures. Compare and interpret the results and conclude. (25 pts)\n"
   ]
  },
  {
   "cell_type": "code",
   "execution_count": null,
   "id": "6c583b0d",
   "metadata": {},
   "outputs": [],
   "source": [
    "# codes here"
   ]
  }
 ],
 "metadata": {
  "kernelspec": {
   "display_name": "Python 3 (ipykernel)",
   "language": "python",
   "name": "python3"
  },
  "language_info": {
   "codemirror_mode": {
    "name": "ipython",
    "version": 3
   },
   "file_extension": ".py",
   "mimetype": "text/x-python",
   "name": "python",
   "nbconvert_exporter": "python",
   "pygments_lexer": "ipython3",
   "version": "3.9.7"
  },
  "latex_envs": {
   "LaTeX_envs_menu_present": true,
   "autoclose": false,
   "autocomplete": true,
   "bibliofile": "biblio.bib",
   "cite_by": "apalike",
   "current_citInitial": 1,
   "eqLabelWithNumbers": true,
   "eqNumInitial": 1,
   "hotkeys": {
    "equation": "Ctrl-E",
    "itemize": "Ctrl-I"
   },
   "labels_anchors": false,
   "latex_user_defs": false,
   "report_style_numbering": false,
   "user_envs_cfg": false
  },
  "toc": {
   "base_numbering": 1,
   "nav_menu": {},
   "number_sections": false,
   "sideBar": true,
   "skip_h1_title": false,
   "title_cell": "Table of Contents",
   "title_sidebar": "Contents",
   "toc_cell": false,
   "toc_position": {},
   "toc_section_display": true,
   "toc_window_display": false
  }
 },
 "nbformat": 4,
 "nbformat_minor": 5
}
