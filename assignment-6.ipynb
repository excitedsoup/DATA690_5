{
 "cells": [
  {
   "cell_type": "markdown",
   "id": "b4893f8c",
   "metadata": {},
   "source": [
    "# Assignment-6"
   ]
  },
  {
   "cell_type": "markdown",
   "id": "1d752f94",
   "metadata": {},
   "source": [
    "**Task:** Main objective is to construct a stock portfolio using stocks listed in S&P-500. To do that, you will pick 50 stocks from 5 different sectors (10 stocks from each sector). You ultimate aim is to run PCA for each sector and see which stock dominates the sector and to run performance analysis using Sharpe ratio.\n",
    "\n",
    "1) Retrieve daily data covering the period of 01/01/2017-01/01/2022.\n",
    "\n",
    "2) Calculate returns of your stocks\n",
    "\n",
    "3) Run PCA for different sectors. If you end up with more than one principal component, calculate cross sectional average of these components to have only one variable.\n",
    "\n",
    "4) Calculate the loadings to show which stock dominates the sector (loadings gives the weight of the stock in a portfolio)\n",
    "\n",
    "5) Calculate sharpe ratio for each sector and compare it to the Sharpe ratio of S&P-500 for the same period.\n"
   ]
  },
  {
   "cell_type": "code",
   "execution_count": 82,
   "id": "13253df1",
   "metadata": {},
   "outputs": [],
   "source": [
    "#codes here\n",
    "import yfinance as yf\n",
    "import datetime\n",
    "import pandas as pd\n",
    "from fredapi import Fred\n",
    "import numpy as np\n",
    "import matplotlib.pyplot as plt\n",
    "import seaborn as sns\n",
    "from sklearn.decomposition import PCA\n",
    "from sklearn.preprocessing import StandardScaler"
   ]
  },
  {
   "cell_type": "code",
   "execution_count": 83,
   "id": "0c46dcfc",
   "metadata": {},
   "outputs": [],
   "source": [
    "#Chevron, ExxonMobil, Hess, Baker Hughes, Halliburton, Schlumberger, APA Corporation, ConocoPhillips, Coterra, Devon\n",
    "energy_stocks = ['CVX', 'XOM', 'HES', 'BKR', 'HAL', 'SLB', 'APA', 'COP', 'CTRA', 'DVN']\n",
    "#Blackrock, BNY Mellon, Franklin Templeton, Invesco, Nothern Trust, State Street, T Rowe Price, American Express, Capitol One, Discover\n",
    "financial_stocks = ['BLK', 'BK', 'BEN', 'IVZ', 'NTRS', 'STT', 'TROW', 'AXP', 'COF', 'DFS'] \n",
    "#Amgen, Biogen, Gilead, Incyte, Moderna, Regeneron, Vertex, AmerisourceBergen, Bristol Myers Squibb, Cardinal Health\n",
    "health_stocks = ['AMGN', 'BIIB', 'GILD', 'INCY', 'MRNA', 'REGN', 'VRTX', 'ABC', 'BMY', 'CAH']\n",
    "#Boeing, General Dynamics, Lockheed Martin, Raytheon Technologies, Fedex, Alaska Airlines, American Airlines, Carrier, Masco, Jacobs\n",
    "industrial_stocks = ['BA', 'GD', 'LMT', 'RTX', 'FDX', 'ALK', 'AAL', 'CARR', 'MAS', 'J']\n",
    "#Adobe, Visa, Oracle, Salesforce, Mastercard, AMD, Nvidia, Microsoft, Western Digital, Apple\n",
    "IT_stocks = ['ADBE', 'V', 'ORCL', 'CRM', 'MA', 'AMD', 'NVDA', 'MSFT', 'WDC', 'AAPL']\n",
    "\n",
    "start = datetime.datetime(2017, 1, 1)\n",
    "end = datetime.datetime(2022, 1, 1)"
   ]
  },
  {
   "cell_type": "code",
   "execution_count": 84,
   "id": "ac3a3ddd",
   "metadata": {},
   "outputs": [
    {
     "name": "stdout",
     "output_type": "stream",
     "text": [
      "[*********************100%***********************]  10 of 10 completed\n",
      "[*********************100%***********************]  10 of 10 completed\n",
      "[*********************100%***********************]  10 of 10 completed\n",
      "[*********************100%***********************]  10 of 10 completed\n",
      "[*********************100%***********************]  10 of 10 completed\n",
      "[*********************100%***********************]  1 of 1 completed\n"
     ]
    }
   ],
   "source": [
    "energy_prices = yf.download(energy_stocks, start = start, end = end, interval = '1d')\n",
    "financial_prices = yf.download(financial_stocks, start = start, end = end, interval = '1d')\n",
    "health_prices = yf.download(health_stocks, start = start, end = end, interval = '1d')\n",
    "industrial_prices = yf.download(industrial_stocks, start = start, end = end, interval = '1d')\n",
    "IT_prices = yf.download(IT_stocks, start = start, end = end, interval = '1d')\n",
    "#S&P 500\n",
    "SP_prices = yf.download(['^GSPC'], start = start, end = end, interval = '1d')\n"
   ]
  },
  {
   "cell_type": "code",
   "execution_count": 85,
   "id": "b7c9a6b8",
   "metadata": {},
   "outputs": [
    {
     "name": "stderr",
     "output_type": "stream",
     "text": [
      "C:\\Users\\Peter\\anaconda3\\lib\\site-packages\\pandas\\util\\_decorators.py:311: SettingWithCopyWarning: \n",
      "A value is trying to be set on a copy of a slice from a DataFrame\n",
      "\n",
      "See the caveats in the documentation: https://pandas.pydata.org/pandas-docs/stable/user_guide/indexing.html#returning-a-view-versus-a-copy\n",
      "  return func(*args, **kwargs)\n"
     ]
    }
   ],
   "source": [
    "energy_prices_close = energy_prices['Close']\n",
    "financial_prices_close = financial_prices['Close']\n",
    "health_prices_close = health_prices['Close']\n",
    "industrial_prices_close = industrial_prices['Close']\n",
    "IT_prices_close = IT_prices['Close']\n",
    "SP_prices_close = SP_prices['Close']\n",
    "energy_prices_close.dropna(inplace = True)\n",
    "financial_prices_close.dropna(inplace = True)\n",
    "health_prices_close.dropna(inplace = True)\n",
    "industrial_prices_close.dropna(inplace = True)\n",
    "IT_prices_close.dropna(inplace = True)\n",
    "SP_prices_close.dropna(inplace = True)"
   ]
  },
  {
   "cell_type": "code",
   "execution_count": 86,
   "id": "2b173c08",
   "metadata": {},
   "outputs": [],
   "source": [
    "fred = Fred(api_key = '259593b221ea34aa8f3c5cb39ab85c31')\n",
    "risk_free = fred.get_series('DGS3MO')\n",
    "risk_free = risk_free['2017-01-01':'2022-01-01']\n",
    "risk_free = risk_free / 90"
   ]
  },
  {
   "cell_type": "code",
   "execution_count": 87,
   "id": "b0125e3a",
   "metadata": {},
   "outputs": [],
   "source": [
    "energy_returns = energy_prices_close.pct_change()\n",
    "financial_returns = financial_prices_close.pct_change()\n",
    "health_returns = health_prices_close.pct_change()\n",
    "industrial_returns = industrial_prices_close.pct_change()\n",
    "IT_returns = IT_prices_close.pct_change()\n",
    "SP_returns = pd.DataFrame(SP_prices_close.pct_change())\n",
    "energy_returns.dropna(inplace = True)\n",
    "financial_returns.dropna(inplace = True)\n",
    "health_returns.dropna(inplace = True)\n",
    "industrial_returns.dropna(inplace = True)\n",
    "IT_returns.dropna(inplace = True)\n",
    "SP_returns.dropna(inplace = True)\n",
    "SP_returns = SP_returns.rename({'Close':'GSPC'}, axis='columns')"
   ]
  },
  {
   "cell_type": "code",
   "execution_count": 88,
   "id": "8afb3421",
   "metadata": {},
   "outputs": [],
   "source": [
    "for i in energy_returns:\n",
    "    energy_returns[f'excess_return_{i}'] = energy_returns[i] - risk_free\n",
    "for i in financial_returns:\n",
    "    financial_returns[f'excess_return_{i}'] = financial_returns[i] - risk_free\n",
    "for i in health_returns:\n",
    "    health_returns[f'excess_return_{i}'] = health_returns[i] - risk_free\n",
    "for i in industrial_returns:\n",
    "    industrial_returns[f'excess_return_{i}'] = industrial_returns[i] - risk_free\n",
    "for i in IT_returns:\n",
    "    IT_returns[f'excess_return_{i}'] = IT_returns[i] - risk_free\n",
    "for i in SP_returns:\n",
    "    SP_returns[f'excess_return_{i}'] = SP_returns[i] - risk_free"
   ]
  },
  {
   "cell_type": "code",
   "execution_count": 89,
   "id": "f8aa4a31",
   "metadata": {},
   "outputs": [],
   "source": [
    "ER = energy_returns.iloc[:, -10:].values\n",
    "FR = financial_returns.iloc[:, -10:].values\n",
    "HR = health_returns.iloc[:, -10:].values\n",
    "IR = industrial_returns.iloc[:, -10:].values\n",
    "ITR = IT_returns.iloc[:, -10:].values"
   ]
  },
  {
   "cell_type": "code",
   "execution_count": 90,
   "id": "33b8fbc4",
   "metadata": {},
   "outputs": [],
   "source": [
    "ss_ER = StandardScaler().fit_transform(ER)\n",
    "ss_FR = StandardScaler().fit_transform(FR)\n",
    "ss_HR = StandardScaler().fit_transform(HR)\n",
    "ss_IR = StandardScaler().fit_transform(IR)\n",
    "ss_ITR = StandardScaler().fit_transform(ITR)"
   ]
  },
  {
   "cell_type": "code",
   "execution_count": 91,
   "id": "682a6e3f",
   "metadata": {},
   "outputs": [],
   "source": [
    "n_ER = ss_ER[np.logical_not(np.isnan(ss_ER))]\n",
    "n_FR = FR[np.logical_not(np.isnan(FR))]\n",
    "n_HR = HR[np.logical_not(np.isnan(HR))]\n",
    "n_IR = IR[np.logical_not(np.isnan(IR))]\n",
    "n_ITR = ITR[np.logical_not(np.isnan(ITR))]"
   ]
  },
  {
   "cell_type": "code",
   "execution_count": 92,
   "id": "a15e7115",
   "metadata": {
    "scrolled": false
   },
   "outputs": [],
   "source": [
    "ER2 = np.reshape(n_ER, (1249, 10))\n",
    "FR2 = np.reshape(n_FR, (1249, 10))\n",
    "HR2 = np.reshape(n_HR, (766, 10))\n",
    "IR2 = np.reshape(n_IR, (447, 10))\n",
    "ITR2 = np.reshape(n_ITR, (1249, 10))"
   ]
  },
  {
   "cell_type": "code",
   "execution_count": 111,
   "id": "d4667026",
   "metadata": {},
   "outputs": [],
   "source": [
    "pca = PCA(n_components = 10)\n",
    "pca2 = PCA(n_components = 3)"
   ]
  },
  {
   "cell_type": "code",
   "execution_count": 118,
   "id": "fd2504f1",
   "metadata": {},
   "outputs": [
    {
     "name": "stdout",
     "output_type": "stream",
     "text": [
      "[0.75217645 0.07398827 0.04259949 0.03467262 0.0231421  0.02010241\n",
      " 0.01668328 0.01432796 0.01134607 0.01096135]\n",
      "           PC1       PC2       PC3\n",
      "CVX  -0.839975 -0.216323  0.366168\n",
      "XOM  -0.822298  0.021062 -0.361238\n",
      "HES  -0.928569 -0.047592  0.005967\n",
      "BKR  -0.575897  0.792899  0.173617\n",
      "HAL  -0.900177  0.092575 -0.179294\n",
      "SLB  -0.906700 -0.127992  0.184910\n",
      "APA  -0.917313 -0.112872 -0.073724\n",
      "COP  -0.894241 -0.101628  0.178285\n",
      "CTRA -0.924623 -0.094407 -0.099214\n",
      "DVN  -0.907569  0.073136 -0.134845\n"
     ]
    }
   ],
   "source": [
    "PC_ER = pca.fit_transform(ER2)\n",
    "exp_ER = pca.explained_variance_ratio_\n",
    "print(exp_ER)\n",
    "components = pca2.fit_transform(ER2)\n",
    "loadings = pca2.components_.T * np.sqrt(pca2.explained_variance_)\n",
    "loading_matrix = pd.DataFrame(loadings, columns = ['PC1', 'PC2', 'PC3'], index = energy_stocks)\n",
    "print(loading_matrix)"
   ]
  },
  {
   "cell_type": "code",
   "execution_count": 119,
   "id": "24c60b2b",
   "metadata": {},
   "outputs": [
    {
     "name": "stdout",
     "output_type": "stream",
     "text": [
      "[0.77671677 0.06953378 0.04274259 0.02951582 0.02176818 0.01525232\n",
      " 0.01330932 0.01151492 0.01082462 0.00882167]\n",
      "           PC1       PC2       PC3\n",
      "BLK   0.021600 -0.006031 -0.000280\n",
      "BK    0.020057  0.008924 -0.004474\n",
      "BEN   0.018935  0.001046  0.007204\n",
      "IVZ   0.017797  0.004642 -0.000326\n",
      "NTRS  0.024681 -0.008675 -0.002228\n",
      "STT   0.026719 -0.010740 -0.004382\n",
      "TROW  0.025343  0.007179 -0.006929\n",
      "AXP   0.020401  0.001512  0.005963\n",
      "COF   0.022112  0.001027  0.008992\n",
      "DFS   0.018049  0.006341 -0.000423\n"
     ]
    }
   ],
   "source": [
    "PC_FR = pca.fit_transform(FR2)\n",
    "exp_FR = pca.explained_variance_ratio_\n",
    "print(exp_FR)\n",
    "components = pca2.fit_transform(FR2)\n",
    "loadings = pca2.components_.T * np.sqrt(pca2.explained_variance_)\n",
    "loading_matrix = pd.DataFrame(loadings, columns = ['PC1', 'PC2', 'PC3'], index = financial_stocks)\n",
    "print(loading_matrix)"
   ]
  },
  {
   "cell_type": "code",
   "execution_count": 120,
   "id": "507d279e",
   "metadata": {},
   "outputs": [
    {
     "name": "stdout",
     "output_type": "stream",
     "text": [
      "[0.46056757 0.25603764 0.10135808 0.05542461 0.03246763 0.02429093\n",
      " 0.02354707 0.01992785 0.0147547  0.01162391]\n",
      "           PC1       PC2       PC3\n",
      "AMGN  0.014215 -0.010854 -0.007969\n",
      "BIIB  0.014116 -0.009440 -0.003903\n",
      "GILD  0.021149 -0.016777  0.024833\n",
      "INCY  0.011772 -0.008669 -0.002784\n",
      "MRNA  0.014679 -0.010152 -0.008762\n",
      "REGN  0.014092 -0.005810 -0.004161\n",
      "VRTX  0.015673 -0.009011 -0.002952\n",
      "ABC   0.041103  0.034470  0.001261\n",
      "BMY   0.016860 -0.008009 -0.003247\n",
      "CAH   0.015537 -0.010634 -0.005639\n"
     ]
    }
   ],
   "source": [
    "PC_HR = pca.fit_transform(HR2)\n",
    "exp_HR = pca.explained_variance_ratio_\n",
    "print(exp_HR)\n",
    "components = pca2.fit_transform(HR2)\n",
    "loadings = pca2.components_.T * np.sqrt(pca2.explained_variance_)\n",
    "loading_matrix = pd.DataFrame(loadings, columns = ['PC1', 'PC2', 'PC3'], index = health_stocks)\n",
    "print(loading_matrix)"
   ]
  },
  {
   "cell_type": "code",
   "execution_count": 121,
   "id": "d17db348",
   "metadata": {},
   "outputs": [
    {
     "name": "stdout",
     "output_type": "stream",
     "text": [
      "[0.61546875 0.12143353 0.07788201 0.05177938 0.03663594 0.03425559\n",
      " 0.02144747 0.01873401 0.0138677  0.00849562]\n",
      "           PC1       PC2       PC3\n",
      "BA    0.043584  0.020111  0.004660\n",
      "GD    0.032497  0.003406  0.001882\n",
      "LMT   0.033921 -0.006487 -0.004889\n",
      "RTX   0.012987 -0.015641  0.021940\n",
      "FDX   0.012305 -0.007128 -0.006764\n",
      "ALK   0.012570 -0.006576 -0.002839\n",
      "AAL   0.012516 -0.009150 -0.003962\n",
      "CARR  0.008983 -0.007463 -0.004711\n",
      "MAS   0.008896 -0.009171 -0.003608\n",
      "J     0.021422 -0.006092 -0.006556\n"
     ]
    }
   ],
   "source": [
    "PC_IR = pca.fit_transform(IR2)\n",
    "exp_IR = pca.explained_variance_ratio_\n",
    "print(exp_IR)\n",
    "components = pca2.fit_transform(IR2)\n",
    "loadings = pca2.components_.T * np.sqrt(pca2.explained_variance_)\n",
    "loading_matrix = pd.DataFrame(loadings, columns = ['PC1', 'PC2', 'PC3'], index = industrial_stocks)\n",
    "print(loading_matrix)"
   ]
  },
  {
   "cell_type": "code",
   "execution_count": 123,
   "id": "6a76ea38",
   "metadata": {},
   "outputs": [
    {
     "name": "stdout",
     "output_type": "stream",
     "text": [
      "[0.63214789 0.11930508 0.08546287 0.04805389 0.03231022 0.02920376\n",
      " 0.02407808 0.01677495 0.00841767 0.0042456 ]\n",
      "           PC1       PC2       PC3\n",
      "ADBE -0.017849  0.002965  0.003836\n",
      "V    -0.019420  0.003246  0.006981\n",
      "ORCL -0.027946 -0.022447 -0.003360\n",
      "CRM  -0.018653  0.004196  0.006529\n",
      "MA   -0.017597  0.006706  0.002229\n",
      "AMD  -0.017615  0.003956  0.004588\n",
      "NVDA -0.027206 -0.005249  0.000757\n",
      "MSFT -0.014245  0.005003  0.003068\n",
      "WDC  -0.016086  0.005998  0.002376\n",
      "AAPL -0.022633  0.009740 -0.020080\n"
     ]
    }
   ],
   "source": [
    "PC_ITR = pca.fit_transform(ITR2)\n",
    "exp_ITR = pca.explained_variance_ratio_\n",
    "print(exp_ITR)\n",
    "components = pca2.fit_transform(ITR2)\n",
    "loadings = pca2.components_.T * np.sqrt(pca2.explained_variance_)\n",
    "loading_matrix = pd.DataFrame(loadings, columns = ['PC1', 'PC2', 'PC3'], index = IT_stocks)\n",
    "print(loading_matrix)"
   ]
  },
  {
   "cell_type": "code",
   "execution_count": 124,
   "id": "29b0ee0c",
   "metadata": {},
   "outputs": [],
   "source": [
    "def sharpe(stocks, rf, n_assets, returns):\n",
    "    sharpe_ratios = {}\n",
    "    for i, j in zip(stocks, range(n_assets)):\n",
    "        sharpe_ratios[i] = (returns.iloc[:,j].mean() - rf) / np.std(returns.iloc[:,j])\n",
    "    return sharpe_ratios"
   ]
  },
  {
   "cell_type": "code",
   "execution_count": 128,
   "id": "dfcf3225",
   "metadata": {},
   "outputs": [],
   "source": [
    "risk_free_mean = risk_free.mean()\n",
    "sharpe_energy = sharpe(energy_prices_close.columns, risk_free_mean, 10, energy_returns.iloc[:, -10:])\n",
    "sharpe_financial = sharpe(financial_prices_close.columns, risk_free_mean, 10, financial_returns.iloc[:, -10:])\n",
    "sharpe_health = sharpe(health_prices_close.columns, risk_free_mean, 10, health_returns.iloc[:, -10:])\n",
    "sharpe_industrial = sharpe(industrial_prices_close.columns, risk_free_mean, 10, industrial_returns.iloc[:, -10:])\n",
    "sharpe_IT = sharpe(IT_prices_close.columns, risk_free_mean, 10, IT_returns.iloc[:, -10:])"
   ]
  },
  {
   "cell_type": "code",
   "execution_count": 129,
   "id": "169fd977",
   "metadata": {},
   "outputs": [
    {
     "data": {
      "text/plain": [
       "{'Energy': {'APA': -0.5356369741242483,\n",
       "  'BKR': -0.7926599011035328,\n",
       "  'COP': -0.8204082395440592,\n",
       "  'CTRA': -0.9338760287285021,\n",
       "  'CVX': -1.0227320118268657,\n",
       "  'DVN': -0.6147358319480448,\n",
       "  'HAL': -0.6977611842871301,\n",
       "  'HES': -0.7181673939647232,\n",
       "  'SLB': -0.8139325358046346,\n",
       "  'XOM': -1.1023219089119423},\n",
       " 'Financial': {'AXP': -0.962955110354781,\n",
       "  'BEN': -0.9911954149016502,\n",
       "  'BK': -1.1120455537498042,\n",
       "  'BLK': -1.104978242074406,\n",
       "  'COF': -0.860957685489293,\n",
       "  'DFS': -0.783647455237164,\n",
       "  'IVZ': -0.8308705282277895,\n",
       "  'NTRS': -1.054971617628077,\n",
       "  'STT': -0.9533820143373921,\n",
       "  'TROW': -1.0848862709570972},\n",
       " 'Health': {'ABC': -0.9034158736881408,\n",
       "  'AMGN': -1.0271013057108875,\n",
       "  'BIIB': -0.585309099618193,\n",
       "  'BMY': -1.1006366964873964,\n",
       "  'CAH': -0.8730621865018454,\n",
       "  'GILD': -1.0458689654189357,\n",
       "  'INCY': -0.860968121257213,\n",
       "  'MRNA': -0.31775115131504567,\n",
       "  'REGN': -0.8636071046129565,\n",
       "  'VRTX': -0.8738050717420119},\n",
       " 'Industrial': {'AAL': -0.21204216073850124,\n",
       "  'ALK': -0.28826711429905233,\n",
       "  'BA': -0.26934401347284076,\n",
       "  'CARR': -0.3040422566539882,\n",
       "  'FDX': -0.4660533187537093,\n",
       "  'GD': -0.6564528775257493,\n",
       "  'J': -0.5533743834407231,\n",
       "  'LMT': -0.7234725295024415,\n",
       "  'MAS': -0.5652210339507626,\n",
       "  'RTX': -0.4412833628881984},\n",
       " 'IT': {'AAPL': -1.0345820126107208,\n",
       "  'ADBE': -0.9751409904446027,\n",
       "  'AMD': -0.5858039848256036,\n",
       "  'CRM': -0.9746863641564573,\n",
       "  'MA': -1.0615461225115033,\n",
       "  'MSFT': -1.1289385433164818,\n",
       "  'NVDA': -0.6869442118483553,\n",
       "  'ORCL': -1.1417312561751363,\n",
       "  'V': -1.1906869122313326,\n",
       "  'WDC': -0.7430535827409753}}"
      ]
     },
     "execution_count": 129,
     "metadata": {},
     "output_type": "execute_result"
    }
   ],
   "source": [
    "sharpes = {'Energy':sharpe_energy, 'Financial':sharpe_financial, 'Health':sharpe_health,\n",
    "           'Industrial':sharpe_industrial, 'IT':sharpe_IT}\n",
    "sharpes"
   ]
  },
  {
   "cell_type": "code",
   "execution_count": 130,
   "id": "c9d90a1d",
   "metadata": {},
   "outputs": [],
   "source": [
    "sharpe_SP = sharpe(pd.DataFrame(SP_prices_close).columns, risk_free_mean, 1, pd.DataFrame(SP_returns).iloc[:, -1:])"
   ]
  },
  {
   "cell_type": "code",
   "execution_count": 131,
   "id": "c617e42b",
   "metadata": {},
   "outputs": [
    {
     "data": {
      "text/plain": [
       "{'Close': -1.4735006677653695}"
      ]
     },
     "execution_count": 131,
     "metadata": {},
     "output_type": "execute_result"
    }
   ],
   "source": [
    "sharpe_SP"
   ]
  },
  {
   "cell_type": "markdown",
   "id": "13889beb",
   "metadata": {},
   "source": [
    "The Sharpe ratios seem to indicate something similar, and to an even greater degree, that the risk is incredible (which makes sense, given the huge loss from the pandemic across all sectors)"
   ]
  }
 ],
 "metadata": {
  "kernelspec": {
   "display_name": "Python 3 (ipykernel)",
   "language": "python",
   "name": "python3"
  },
  "language_info": {
   "codemirror_mode": {
    "name": "ipython",
    "version": 3
   },
   "file_extension": ".py",
   "mimetype": "text/x-python",
   "name": "python",
   "nbconvert_exporter": "python",
   "pygments_lexer": "ipython3",
   "version": "3.9.7"
  },
  "latex_envs": {
   "LaTeX_envs_menu_present": true,
   "autoclose": false,
   "autocomplete": true,
   "bibliofile": "biblio.bib",
   "cite_by": "apalike",
   "current_citInitial": 1,
   "eqLabelWithNumbers": true,
   "eqNumInitial": 1,
   "hotkeys": {
    "equation": "Ctrl-E",
    "itemize": "Ctrl-I"
   },
   "labels_anchors": false,
   "latex_user_defs": false,
   "report_style_numbering": false,
   "user_envs_cfg": false
  },
  "toc": {
   "base_numbering": 1,
   "nav_menu": {},
   "number_sections": true,
   "sideBar": true,
   "skip_h1_title": false,
   "title_cell": "Table of Contents",
   "title_sidebar": "Contents",
   "toc_cell": false,
   "toc_position": {},
   "toc_section_display": true,
   "toc_window_display": false
  }
 },
 "nbformat": 4,
 "nbformat_minor": 5
}
