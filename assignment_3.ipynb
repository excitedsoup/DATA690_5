{
 "cells": [
  {
   "cell_type": "markdown",
   "id": "5f6c7100",
   "metadata": {},
   "source": [
    "# Assignment-3"
   ]
  },
  {
   "cell_type": "markdown",
   "id": "91865e60",
   "metadata": {},
   "source": [
    "Pick a machine learning model of your choice and run APT model. Then, compare your result with the one with linear regression using mean squared error metric and interpret the result.\n",
    "\n",
    "Please do not forget to run the followings while running ML-based APT model:\n",
    "\n",
    "* Hyperparameter tuning\n",
    "* Cross validation\n",
    "\n",
    "**Note:** You can use the same independent/dependent variables that we used in the class."
   ]
  },
  {
   "cell_type": "code",
   "execution_count": 1,
   "id": "74af5dd9",
   "metadata": {},
   "outputs": [],
   "source": [
    "#codes here"
   ]
  }
 ],
 "metadata": {
  "kernelspec": {
   "display_name": "Python 3 (ipykernel)",
   "language": "python",
   "name": "python3"
  },
  "language_info": {
   "codemirror_mode": {
    "name": "ipython",
    "version": 3
   },
   "file_extension": ".py",
   "mimetype": "text/x-python",
   "name": "python",
   "nbconvert_exporter": "python",
   "pygments_lexer": "ipython3",
   "version": "3.9.7"
  }
 },
 "nbformat": 4,
 "nbformat_minor": 5
}
